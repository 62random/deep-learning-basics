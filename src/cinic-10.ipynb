{
 "cells": [
  {
   "cell_type": "code",
   "execution_count": 1,
   "metadata": {
    "pycharm": {
     "is_executing": false
    }
   },
   "outputs": [
    {
     "name": "stderr",
     "output_type": "stream",
     "text": [
      "Using TensorFlow backend.\n"
     ]
    },
    {
     "name": "stdout",
     "output_type": "stream",
     "text": [
      "Found 90000 images belonging to 10 classes.\n",
      "Found 90000 images belonging to 10 classes.\n"
     ]
    }
   ],
   "source": [
    "from models import *\n",
    "from viz import *\n",
    "import tensorflow as tf\n",
    "from tensorflow.keras.preprocessing.image import ImageDataGenerator\n",
    "from tensorflow.keras.callbacks import TensorBoard, ReduceLROnPlateau\n",
    "\n",
    "physical_devices = tf.config.experimental.list_physical_devices('GPU')\n",
    "tf.config.experimental.set_memory_growth(physical_devices[0], True)\n",
    "\n",
    "gen = ImageDataGenerator()\n",
    "PATH='../data/CINIC-10/'\n",
    "\n",
    "\n",
    "batch_size = 256\n",
    "target_size = (32, 32)\n",
    "\n",
    "train_gen = ImageDataGenerator(rescale=1./255)#,\n",
    "#                               rotation_range=15,\n",
    "#                               shear_range=0.2,\n",
    "#                               zoom_range=0.2)\n",
    "test_gen = ImageDataGenerator(rescale=1./255)\n",
    "#valid_gen = ImageDataGenerator(rescale=1./255)\n",
    "\n",
    "train_set = train_gen.flow_from_directory(PATH+'/train',\n",
    "                                          batch_size=batch_size,\n",
    "                                          target_size=target_size,\n",
    "                                          class_mode='categorical')\n",
    "\n",
    "test_set = test_gen.flow_from_directory(PATH+'/test',\n",
    "                                        batch_size=batch_size,\n",
    "                                        target_size=target_size,\n",
    "                                        class_mode='categorical')\n",
    "\n",
    "#valid_set = valid_gen.flow_from_directory(PATH+'/valid',\n",
    "#                                          target_size=target_size,\n",
    "#                                          class_mode='categorical')"
   ]
  },
  {
   "cell_type": "code",
   "execution_count": 2,
   "metadata": {
    "pycharm": {
     "is_executing": false,
     "name": "#%%\n"
    }
   },
   "outputs": [],
   "source": [
    "def run_cinic10(name, train_set, valid_set,\n",
    "                epochs=10, lr=0.001):\n",
    "    model = create_model(name, \n",
    "                         (target_size[0], target_size[1], 3), \n",
    "                         10, \n",
    "                         epochs=epochs, \n",
    "                         lr=lr\n",
    "                         )\n",
    "    print(model.summary())\n",
    "    print_model(model, f\"img/{name}.png\")\n",
    "    \n",
    "    # Train the model\n",
    "    tensorboard = TensorBoard(log_dir=f'logs/{name}')\n",
    "    \n",
    "    if lr == True:\n",
    "        callbacks = [tensorboard, ReduceLROnPlateau()]\n",
    "    else:\n",
    "        callbacks = [tensorboard]\n",
    "    history = model.fit(train_set,\n",
    "                                  validation_data=valid_set, \n",
    "                                  epochs=epochs,\n",
    "                                  verbose=1,\n",
    "                                  callbacks=callbacks)\n",
    "    \n",
    "    plot_history_metrics(history, ['accuracy', 'loss'])\n",
    "    return history\n",
    "\n"
   ]
  },
  {
   "cell_type": "code",
   "execution_count": 4,
   "metadata": {
    "pycharm": {
     "is_executing": false,
     "name": "#%%\n"
    }
   },
   "outputs": [
    {
     "name": "stdout",
     "output_type": "stream",
     "text": [
      "Model: \"sequential\"\n",
      "_________________________________________________________________\n",
      "Layer (type)                 Output Shape              Param #   \n",
      "=================================================================\n",
      "conv2d (Conv2D)              (None, 32, 32, 32)        896       \n",
      "_________________________________________________________________\n",
      "conv2d_1 (Conv2D)            (None, 32, 32, 32)        9248      \n",
      "_________________________________________________________________\n",
      "max_pooling2d (MaxPooling2D) (None, 16, 16, 32)        0         \n",
      "_________________________________________________________________\n",
      "batch_normalization (BatchNo (None, 16, 16, 32)        128       \n",
      "_________________________________________________________________\n",
      "conv2d_2 (Conv2D)            (None, 16, 16, 64)        18496     \n",
      "_________________________________________________________________\n",
      "conv2d_3 (Conv2D)            (None, 16, 16, 64)        36928     \n",
      "_________________________________________________________________\n",
      "max_pooling2d_1 (MaxPooling2 (None, 8, 8, 64)          0         \n",
      "_________________________________________________________________\n",
      "batch_normalization_1 (Batch (None, 8, 8, 64)          256       \n",
      "_________________________________________________________________\n",
      "dropout (Dropout)            (None, 8, 8, 64)          0         \n",
      "_________________________________________________________________\n",
      "conv2d_4 (Conv2D)            (None, 8, 8, 128)         73856     \n",
      "_________________________________________________________________\n",
      "dropout_1 (Dropout)          (None, 8, 8, 128)         0         \n",
      "_________________________________________________________________\n",
      "conv2d_5 (Conv2D)            (None, 8, 8, 128)         147584    \n",
      "_________________________________________________________________\n",
      "max_pooling2d_2 (MaxPooling2 (None, 4, 4, 128)         0         \n",
      "_________________________________________________________________\n",
      "batch_normalization_2 (Batch (None, 4, 4, 128)         512       \n",
      "_________________________________________________________________\n",
      "flatten (Flatten)            (None, 2048)              0         \n",
      "_________________________________________________________________\n",
      "dropout_2 (Dropout)          (None, 2048)              0         \n",
      "_________________________________________________________________\n",
      "dense (Dense)                (None, 1024)              2098176   \n",
      "_________________________________________________________________\n",
      "dropout_3 (Dropout)          (None, 1024)              0         \n",
      "_________________________________________________________________\n",
      "dense_1 (Dense)              (None, 512)               524800    \n",
      "_________________________________________________________________\n",
      "dense_2 (Dense)              (None, 10)                5130      \n",
      "=================================================================\n",
      "Total params: 2,916,010\n",
      "Trainable params: 2,915,562\n",
      "Non-trainable params: 448\n",
      "_________________________________________________________________\n",
      "None\n",
      "WARNING:tensorflow:sample_weight modes were coerced from\n",
      "  ...\n",
      "    to  \n",
      "  ['...']\n"
     ]
    },
    {
     "name": "stderr",
     "output_type": "stream",
     "text": [
      "WARNING:tensorflow:sample_weight modes were coerced from\n",
      "  ...\n",
      "    to  \n",
      "  ['...']\n"
     ]
    },
    {
     "name": "stdout",
     "output_type": "stream",
     "text": [
      "WARNING:tensorflow:sample_weight modes were coerced from\n",
      "  ...\n",
      "    to  \n",
      "  ['...']\n"
     ]
    },
    {
     "name": "stderr",
     "output_type": "stream",
     "text": [
      "WARNING:tensorflow:sample_weight modes were coerced from\n",
      "  ...\n",
      "    to  \n",
      "  ['...']\n"
     ]
    },
    {
     "name": "stdout",
     "output_type": "stream",
     "text": [
      "Train for 352 steps, validate for 352 steps\n",
      "Epoch 1/20\n",
      "352/352 [==============================] - 152s 433ms/step - loss: 1.8835 - accuracy: 0.3121 - val_loss: 3.4846 - val_accuracy: 0.1059\n",
      "Epoch 2/20\n",
      "352/352 [==============================] - 123s 351ms/step - loss: 1.5876 - accuracy: 0.4141 - val_loss: 1.5266 - val_accuracy: 0.4425\n",
      "Epoch 3/20\n",
      "352/352 [==============================] - 187s 532ms/step - loss: 1.4652 - accuracy: 0.4597 - val_loss: 1.4352 - val_accuracy: 0.4710\n",
      "Epoch 4/20\n",
      "352/352 [==============================] - 157s 446ms/step - loss: 1.3795 - accuracy: 0.4930 - val_loss: 1.4397 - val_accuracy: 0.4786\n",
      "Epoch 5/20\n",
      "352/352 [==============================] - 102s 290ms/step - loss: 1.3129 - accuracy: 0.5188 - val_loss: 1.5594 - val_accuracy: 0.4408\n",
      "Epoch 6/20\n",
      "352/352 [==============================] - 101s 287ms/step - loss: 1.2649 - accuracy: 0.5373 - val_loss: 1.2578 - val_accuracy: 0.5403\n",
      "Epoch 7/20\n",
      "352/352 [==============================] - 101s 288ms/step - loss: 1.2262 - accuracy: 0.5519 - val_loss: 1.2905 - val_accuracy: 0.5375\n",
      "Epoch 8/20\n",
      "352/352 [==============================] - 101s 286ms/step - loss: 1.1878 - accuracy: 0.5675 - val_loss: 1.2362 - val_accuracy: 0.5555\n",
      "Epoch 9/20\n",
      "352/352 [==============================] - 100s 284ms/step - loss: 1.1594 - accuracy: 0.5789 - val_loss: 1.3040 - val_accuracy: 0.5395\n",
      "Epoch 10/20\n",
      "352/352 [==============================] - 101s 288ms/step - loss: 1.1323 - accuracy: 0.5876 - val_loss: 1.2724 - val_accuracy: 0.5403\n",
      "Epoch 11/20\n",
      "352/352 [==============================] - 103s 294ms/step - loss: 1.1099 - accuracy: 0.5953 - val_loss: 1.1574 - val_accuracy: 0.5828\n",
      "Epoch 12/20\n",
      "352/352 [==============================] - 112s 317ms/step - loss: 1.0856 - accuracy: 0.6058 - val_loss: 1.1832 - val_accuracy: 0.5742\n",
      "Epoch 13/20\n",
      "352/352 [==============================] - 127s 360ms/step - loss: 1.0642 - accuracy: 0.6128 - val_loss: 1.1101 - val_accuracy: 0.6022\n",
      "Epoch 14/20\n",
      "352/352 [==============================] - 127s 362ms/step - loss: 1.0434 - accuracy: 0.6206 - val_loss: 1.1383 - val_accuracy: 0.5885\n",
      "Epoch 15/20\n",
      "352/352 [==============================] - 106s 301ms/step - loss: 1.0266 - accuracy: 0.6269 - val_loss: 1.1144 - val_accuracy: 0.6036\n",
      "Epoch 16/20\n",
      "352/352 [==============================] - 105s 299ms/step - loss: 1.0095 - accuracy: 0.6343 - val_loss: 1.1221 - val_accuracy: 0.5969\n",
      "Epoch 17/20\n",
      "352/352 [==============================] - 127s 361ms/step - loss: 0.9940 - accuracy: 0.6413 - val_loss: 1.1419 - val_accuracy: 0.5965\n",
      "Epoch 18/20\n",
      "352/352 [==============================] - 110s 313ms/step - loss: 0.9770 - accuracy: 0.6483 - val_loss: 1.0496 - val_accuracy: 0.6223\n",
      "Epoch 19/20\n",
      "352/352 [==============================] - 120s 342ms/step - loss: 0.9628 - accuracy: 0.6518 - val_loss: 1.0754 - val_accuracy: 0.6135\n",
      "Epoch 20/20\n",
      "352/352 [==============================] - 113s 320ms/step - loss: 0.9449 - accuracy: 0.6591 - val_loss: 1.0783 - val_accuracy: 0.6148\n"
     ]
    },
    {
     "data": {
      "image/png": "[encoded data removed]",
      "text/plain": [
       "<Figure size 432x288 with 1 Axes>"
      ]
     },
     "metadata": {
      "needs_background": "light"
     },
     "output_type": "display_data"
    },
    {
     "data": {
      "image/png": "[encoded data removed]",
      "text/plain": [
       "<Figure size 432x288 with 1 Axes>"
      ]
     },
     "metadata": {
      "needs_background": "light"
     },
     "output_type": "display_data"
    }
   ],
   "source": [
    "v1_history = run_cinic10('cinic_v1', train_set, test_set, epochs=20)"
   ]
  },
  {
   "cell_type": "code",
   "execution_count": 3,
   "metadata": {},
   "outputs": [
    {
     "name": "stdout",
     "output_type": "stream",
     "text": [
      "Model: \"sequential\"\n",
      "_________________________________________________________________\n",
      "Layer (type)                 Output Shape              Param #   \n",
      "=================================================================\n",
      "conv2d (Conv2D)              (None, 32, 32, 32)        2432      \n",
      "_________________________________________________________________\n",
      "conv2d_1 (Conv2D)            (None, 32, 32, 32)        25632     \n",
      "_________________________________________________________________\n",
      "max_pooling2d (MaxPooling2D) (None, 16, 16, 32)        0         \n",
      "_________________________________________________________________\n",
      "batch_normalization (BatchNo (None, 16, 16, 32)        128       \n",
      "_________________________________________________________________\n",
      "conv2d_2 (Conv2D)            (None, 16, 16, 64)        18496     \n",
      "_________________________________________________________________\n",
      "conv2d_3 (Conv2D)            (None, 16, 16, 64)        36928     \n",
      "_________________________________________________________________\n",
      "max_pooling2d_1 (MaxPooling2 (None, 8, 8, 64)          0         \n",
      "_________________________________________________________________\n",
      "batch_normalization_1 (Batch (None, 8, 8, 64)          256       \n",
      "_________________________________________________________________\n",
      "dropout (Dropout)            (None, 8, 8, 64)          0         \n",
      "_________________________________________________________________\n",
      "conv2d_4 (Conv2D)            (None, 8, 8, 64)          36928     \n",
      "_________________________________________________________________\n",
      "conv2d_5 (Conv2D)            (None, 8, 8, 64)          36928     \n",
      "_________________________________________________________________\n",
      "max_pooling2d_2 (MaxPooling2 (None, 4, 4, 64)          0         \n",
      "_________________________________________________________________\n",
      "batch_normalization_2 (Batch (None, 4, 4, 64)          256       \n",
      "_________________________________________________________________\n",
      "dropout_1 (Dropout)          (None, 4, 4, 64)          0         \n",
      "_________________________________________________________________\n",
      "conv2d_6 (Conv2D)            (None, 4, 4, 128)         32896     \n",
      "_________________________________________________________________\n",
      "dropout_2 (Dropout)          (None, 4, 4, 128)         0         \n",
      "_________________________________________________________________\n",
      "conv2d_7 (Conv2D)            (None, 4, 4, 128)         65664     \n",
      "_________________________________________________________________\n",
      "max_pooling2d_3 (MaxPooling2 (None, 2, 2, 128)         0         \n",
      "_________________________________________________________________\n",
      "batch_normalization_3 (Batch (None, 2, 2, 128)         512       \n",
      "_________________________________________________________________\n",
      "flatten (Flatten)            (None, 512)               0         \n",
      "_________________________________________________________________\n",
      "dropout_3 (Dropout)          (None, 512)               0         \n",
      "_________________________________________________________________\n",
      "dense (Dense)                (None, 1024)              525312    \n",
      "_________________________________________________________________\n",
      "dropout_4 (Dropout)          (None, 1024)              0         \n",
      "_________________________________________________________________\n",
      "dense_1 (Dense)              (None, 512)               524800    \n",
      "_________________________________________________________________\n",
      "dense_2 (Dense)              (None, 10)                5130      \n",
      "=================================================================\n",
      "Total params: 1,312,298\n",
      "Trainable params: 1,311,722\n",
      "Non-trainable params: 576\n",
      "_________________________________________________________________\n",
      "None\n",
      "WARNING:tensorflow:sample_weight modes were coerced from\n",
      "  ...\n",
      "    to  \n",
      "  ['...']\n",
      "WARNING:tensorflow:sample_weight modes were coerced from\n",
      "  ...\n",
      "    to  \n",
      "  ['...']\n",
      "Train for 352 steps, validate for 352 steps\n",
      "Epoch 1/20\n",
      "352/352 [==============================] - 111s 316ms/step - loss: 1.9920 - accuracy: 0.2536 - val_loss: 2.1895 - val_accuracy: 0.1899\n",
      "Epoch 2/20\n",
      "352/352 [==============================] - 123s 349ms/step - loss: 1.7108 - accuracy: 0.3548 - val_loss: 1.7851 - val_accuracy: 0.3509\n",
      "Epoch 3/20\n",
      "352/352 [==============================] - 118s 335ms/step - loss: 1.6159 - accuracy: 0.3952 - val_loss: 1.7716 - val_accuracy: 0.3712\n",
      "Epoch 4/20\n",
      "352/352 [==============================] - 121s 344ms/step - loss: 1.5397 - accuracy: 0.4259 - val_loss: 1.5804 - val_accuracy: 0.4182\n",
      "Epoch 5/20\n",
      "352/352 [==============================] - 137s 389ms/step - loss: 1.4716 - accuracy: 0.4527 - val_loss: 1.4817 - val_accuracy: 0.4455\n",
      "Epoch 6/20\n",
      "352/352 [==============================] - 140s 399ms/step - loss: 1.4127 - accuracy: 0.4754 - val_loss: 1.5324 - val_accuracy: 0.4412\n",
      "Epoch 7/20\n",
      "352/352 [==============================] - 135s 384ms/step - loss: 1.3636 - accuracy: 0.4934 - val_loss: 1.3634 - val_accuracy: 0.4938\n",
      "Epoch 8/20\n",
      "352/352 [==============================] - 131s 371ms/step - loss: 1.3236 - accuracy: 0.5115 - val_loss: 1.7037 - val_accuracy: 0.4091\n",
      "Epoch 9/20\n",
      "352/352 [==============================] - 133s 378ms/step - loss: 1.2838 - accuracy: 0.5265 - val_loss: 1.5204 - val_accuracy: 0.4376\n",
      "Epoch 10/20\n",
      "352/352 [==============================] - 149s 425ms/step - loss: 1.2558 - accuracy: 0.5368 - val_loss: 1.4249 - val_accuracy: 0.4903\n",
      "Epoch 11/20\n",
      "352/352 [==============================] - 135s 382ms/step - loss: 1.2293 - accuracy: 0.5463 - val_loss: 1.2611 - val_accuracy: 0.5333\n",
      "Epoch 12/20\n",
      "352/352 [==============================] - 136s 386ms/step - loss: 1.1992 - accuracy: 0.5577 - val_loss: 1.3676 - val_accuracy: 0.5107\n",
      "Epoch 13/20\n",
      "352/352 [==============================] - 125s 355ms/step - loss: 1.1766 - accuracy: 0.5677 - val_loss: 1.2535 - val_accuracy: 0.5468\n",
      "Epoch 14/20\n",
      "352/352 [==============================] - 128s 363ms/step - loss: 1.1560 - accuracy: 0.5748 - val_loss: 1.2484 - val_accuracy: 0.5445\n",
      "Epoch 15/20\n",
      "352/352 [==============================] - 121s 345ms/step - loss: 1.1387 - accuracy: 0.5805 - val_loss: 1.2572 - val_accuracy: 0.5455\n",
      "Epoch 16/20\n",
      "352/352 [==============================] - 137s 388ms/step - loss: 1.1170 - accuracy: 0.5914 - val_loss: 1.2038 - val_accuracy: 0.5659\n",
      "Epoch 17/20\n",
      "352/352 [==============================] - 157s 447ms/step - loss: 1.0983 - accuracy: 0.5972 - val_loss: 1.1259 - val_accuracy: 0.5892\n",
      "Epoch 18/20\n",
      "352/352 [==============================] - 159s 450ms/step - loss: 1.0859 - accuracy: 0.6023 - val_loss: 1.1173 - val_accuracy: 0.5922\n",
      "Epoch 19/20\n",
      "352/352 [==============================] - 153s 434ms/step - loss: 1.0694 - accuracy: 0.6091 - val_loss: 1.1193 - val_accuracy: 0.5902\n",
      "Epoch 20/20\n",
      "352/352 [==============================] - 152s 432ms/step - loss: 1.0539 - accuracy: 0.6132 - val_loss: 1.2911 - val_accuracy: 0.5306\n"
     ]
    },
    {
     "data": {
      "image/png": "[encoded data removed]",
      "text/plain": [
       "<Figure size 432x288 with 1 Axes>"
      ]
     },
     "metadata": {
      "needs_background": "light"
     },
     "output_type": "display_data"
    },
    {
     "data": {
      "image/png": "[encoded data removed]",
      "text/plain": [
       "<Figure size 432x288 with 1 Axes>"
      ]
     },
     "metadata": {
      "needs_background": "light"
     },
     "output_type": "display_data"
    }
   ],
   "source": [
    "v2_history = run_cinic10('cinic_v2', train_set, test_set, epochs=20)"
   ]
  },
  {
   "cell_type": "code",
   "execution_count": null,
   "metadata": {},
   "outputs": [
    {
     "name": "stdout",
     "output_type": "stream",
     "text": [
      "Model: \"sequential\"\n",
      "_________________________________________________________________\n",
      "Layer (type)                 Output Shape              Param #   \n",
      "=================================================================\n",
      "conv2d (Conv2D)              (None, 32, 32, 32)        2432      \n",
      "_________________________________________________________________\n",
      "conv2d_1 (Conv2D)            (None, 32, 32, 32)        25632     \n",
      "_________________________________________________________________\n",
      "max_pooling2d (MaxPooling2D) (None, 16, 16, 32)        0         \n",
      "_________________________________________________________________\n",
      "batch_normalization (BatchNo (None, 16, 16, 32)        128       \n",
      "_________________________________________________________________\n",
      "conv2d_2 (Conv2D)            (None, 16, 16, 64)        18496     \n",
      "_________________________________________________________________\n",
      "conv2d_3 (Conv2D)            (None, 16, 16, 64)        36928     \n",
      "_________________________________________________________________\n",
      "max_pooling2d_1 (MaxPooling2 (None, 8, 8, 64)          0         \n",
      "_________________________________________________________________\n",
      "batch_normalization_1 (Batch (None, 8, 8, 64)          256       \n",
      "_________________________________________________________________\n",
      "dropout (Dropout)            (None, 8, 8, 64)          0         \n",
      "_________________________________________________________________\n",
      "conv2d_4 (Conv2D)            (None, 8, 8, 64)          36928     \n",
      "_________________________________________________________________\n",
      "conv2d_5 (Conv2D)            (None, 8, 8, 64)          36928     \n",
      "_________________________________________________________________\n",
      "max_pooling2d_2 (MaxPooling2 (None, 4, 4, 64)          0         \n",
      "_________________________________________________________________\n",
      "batch_normalization_2 (Batch (None, 4, 4, 64)          256       \n",
      "_________________________________________________________________\n",
      "dropout_1 (Dropout)          (None, 4, 4, 64)          0         \n",
      "_________________________________________________________________\n",
      "conv2d_6 (Conv2D)            (None, 4, 4, 128)         32896     \n",
      "_________________________________________________________________\n",
      "dropout_2 (Dropout)          (None, 4, 4, 128)         0         \n",
      "_________________________________________________________________\n",
      "conv2d_7 (Conv2D)            (None, 4, 4, 128)         65664     \n",
      "_________________________________________________________________\n",
      "max_pooling2d_3 (MaxPooling2 (None, 2, 2, 128)         0         \n",
      "_________________________________________________________________\n",
      "batch_normalization_3 (Batch (None, 2, 2, 128)         512       \n",
      "_________________________________________________________________\n",
      "flatten (Flatten)            (None, 512)               0         \n",
      "_________________________________________________________________\n",
      "dropout_3 (Dropout)          (None, 512)               0         \n",
      "_________________________________________________________________\n",
      "dense (Dense)                (None, 1024)              525312    \n",
      "_________________________________________________________________\n",
      "dropout_4 (Dropout)          (None, 1024)              0         \n",
      "_________________________________________________________________\n",
      "dense_1 (Dense)              (None, 512)               524800    \n",
      "_________________________________________________________________\n",
      "dense_2 (Dense)              (None, 10)                5130      \n",
      "=================================================================\n",
      "Total params: 1,312,298\n",
      "Trainable params: 1,311,722\n",
      "Non-trainable params: 576\n",
      "_________________________________________________________________\n",
      "None\n",
      "WARNING:tensorflow:sample_weight modes were coerced from\n",
      "  ...\n",
      "    to  \n",
      "  ['...']\n",
      "WARNING:tensorflow:sample_weight modes were coerced from\n",
      "  ...\n",
      "    to  \n",
      "  ['...']\n",
      "Train for 352 steps, validate for 352 steps\n",
      "Epoch 1/20\n",
      "352/352 [==============================] - 153s 435ms/step - loss: 1.6255 - accuracy: 0.3966 - val_loss: 4.9826 - val_accuracy: 0.1032\n",
      "Epoch 2/20\n",
      "352/352 [==============================] - 140s 398ms/step - loss: 1.3136 - accuracy: 0.5186 - val_loss: 1.5863 - val_accuracy: 0.4533\n",
      "Epoch 3/20\n",
      "352/352 [==============================] - 183s 520ms/step - loss: 1.1795 - accuracy: 0.5721 - val_loss: 1.2457 - val_accuracy: 0.5528\n",
      "Epoch 4/20\n",
      "352/352 [==============================] - 130s 368ms/step - loss: 1.0888 - accuracy: 0.6055 - val_loss: 1.4177 - val_accuracy: 0.5155\n",
      "Epoch 5/20\n",
      "352/352 [==============================] - 152s 433ms/step - loss: 1.0134 - accuracy: 0.6340 - val_loss: 1.2372 - val_accuracy: 0.5682\n",
      "Epoch 6/20\n",
      "352/352 [==============================] - 178s 507ms/step - loss: 0.9565 - accuracy: 0.6561 - val_loss: 1.1089 - val_accuracy: 0.6110\n",
      "Epoch 7/20\n",
      "352/352 [==============================] - 158s 450ms/step - loss: 0.9088 - accuracy: 0.6729 - val_loss: 1.0598 - val_accuracy: 0.6233\n",
      "Epoch 8/20\n",
      "352/352 [==============================] - 190s 541ms/step - loss: 0.8660 - accuracy: 0.6881 - val_loss: 1.0412 - val_accuracy: 0.6370\n",
      "Epoch 9/20\n",
      "352/352 [==============================] - 182s 518ms/step - loss: 0.8282 - accuracy: 0.7024 - val_loss: 1.0648 - val_accuracy: 0.6326\n",
      "Epoch 10/20\n",
      "352/352 [==============================] - 146s 414ms/step - loss: 0.7927 - accuracy: 0.7156 - val_loss: 0.9818 - val_accuracy: 0.6573\n",
      "Epoch 11/20\n",
      "352/352 [==============================] - 152s 431ms/step - loss: 0.7638 - accuracy: 0.7255 - val_loss: 1.0417 - val_accuracy: 0.6478\n",
      "Epoch 12/20\n",
      "351/352 [============================>.] - ETA: 0s - loss: 0.7324 - accuracy: 0.7360"
     ]
    }
   ],
   "source": [
    "v3_history = run_cinic10('cinic_v3', train_set, test_set, epochs=20, lr=True)"
   ]
  },
  {
   "cell_type": "code",
   "execution_count": null,
   "metadata": {
    "pycharm": {
     "is_executing": false,
     "name": "#%%\n"
    }
   },
   "outputs": [],
   "source": [
    "analyse_accuracy([v1_history, v2_history, v3_history], \n",
    "                 ['cnn1_v1', 'cnn1_v2', 'cnn1_v3'])"
   ]
  }
 ],
 "metadata": {
  "kernelspec": {
   "display_name": "Python 3",
   "language": "python",
   "name": "python3"
  },
  "language_info": {
   "codemirror_mode": {
    "name": "ipython",
    "version": 3
   },
   "file_extension": ".py",
   "mimetype": "text/x-python",
   "name": "python",
   "nbconvert_exporter": "python",
   "pygments_lexer": "ipython3",
   "version": "3.6.9"
  },
  "pycharm": {
   "stem_cell": {
    "cell_type": "raw",
    "metadata": {
     "collapsed": false
    },
    "source": []
   }
  }
 },
 "nbformat": 4,
 "nbformat_minor": 1
}
